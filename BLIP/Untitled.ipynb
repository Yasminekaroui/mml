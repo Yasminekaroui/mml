{
 "cells": [
  {
   "cell_type": "code",
   "execution_count": 18,
   "id": "0415c81f",
   "metadata": {},
   "outputs": [],
   "source": [
    "import argparse\n",
    "import os\n",
    "import ruamel.yaml as yaml\n",
    "import numpy as np\n",
    "import random\n",
    "import time\n",
    "import datetime\n",
    "import json\n",
    "from pathlib import Path\n",
    "import json\n",
    "import pickle\n",
    "import pandas as pd\n",
    "\n",
    "import torch\n",
    "torch.cuda.empty_cache()\n",
    "import torch.nn as nn\n",
    "import torch.nn.functional as F\n",
    "from torch.utils.data import DataLoader\n",
    "import torch.backends.cudnn as cudnn\n",
    "import torch.distributed as dist\n",
    "from tqdm import tqdm\n",
    "\n",
    "\n",
    "from models.blip_nlvr import blip_nlvr\n",
    "from transformers import  AutoTokenizer\n",
    "import utils\n",
    "from utils import cosine_lr_schedule, warmup_lr_schedule\n",
    "from data import create_dataset, create_sampler, create_loader"
   ]
  },
  {
   "cell_type": "code",
   "execution_count": 19,
   "id": "543bfda5",
   "metadata": {},
   "outputs": [
    {
     "name": "stdout",
     "output_type": "stream",
     "text": [
      "Using downloaded and verified file: /mnt/localdata/karoui/datasets/nlvr2/annotations/nlvr_train.json\n",
      "Using downloaded and verified file: /mnt/localdata/karoui/datasets/nlvr2/annotations/nlvr_dev.json\n",
      "Using downloaded and verified file: /mnt/localdata/karoui/datasets/nlvr2/annotations/nlvr_test.json\n"
     ]
    }
   ],
   "source": [
    "config = yaml.load(open(\"./configs/nlvr.yaml\", 'r'), Loader=yaml.Loader)\n",
    "datasets = create_dataset('nlvr', config) \n",
    "\n",
    "\n"
   ]
  },
  {
   "cell_type": "code",
   "execution_count": 20,
   "id": "06a66430",
   "metadata": {},
   "outputs": [
    {
     "name": "stdout",
     "output_type": "stream",
     "text": [
      "Creating model\n",
      "load checkpoint from https://storage.googleapis.com/sfr-vision-language-research/BLIP/models/model_base_nlvr.pth\n",
      "missing keys:\n",
      "[]\n"
     ]
    }
   ],
   "source": [
    "samplers = [None, None, None]\n",
    "    \n",
    "batch_size=[config['batch_size_train'],config['batch_size_test'],config['batch_size_test']]\n",
    "_, val_loader,_ = create_loader(datasets,samplers,batch_size=[64,2, 2],num_workers=[4,4,4],is_trains=[False,False,False], collate_fns=[None,None,None])\n",
    "\n",
    "#### Model #### \n",
    "print(\"Creating model\")\n",
    "model = blip_nlvr(pretrained=config['pretrained'], image_size=config['image_size'], \n",
    "                     vit=config['vit'], vit_grad_ckpt=config['vit_grad_ckpt'], vit_ckpt_layer=config['vit_ckpt_layer'])"
   ]
  },
  {
   "cell_type": "code",
   "execution_count": 25,
   "id": "13cfdf20",
   "metadata": {},
   "outputs": [],
   "source": [
    "device = 'cuda'\n",
    "model = model.to(device)"
   ]
  },
  {
   "cell_type": "code",
   "execution_count": 41,
   "id": "b5ba17d7",
   "metadata": {},
   "outputs": [
    {
     "name": "stderr",
     "output_type": "stream",
     "text": [
      "100%|███████████████████████████████████████████████████████████████████████████████████████████████████████████████████████████████████████████| 110/110 [02:46<00:00,  1.52s/it]\n"
     ]
    }
   ],
   "source": [
    "for _, _, text, _ in tqdm(val_loader):\n",
    "        \n",
    "    text = model.tokenizer(text, padding='longest', return_tensors=\"pt\").to(device) \n",
    "    text.input_ids[:,0] = model.tokenizer.enc_token_id \n",
    "    att = text.attention_mask\n",
    "    output = model.text_encoder(text.input_ids, \n",
    "                                    attention_mask = text.attention_mask,   \n",
    "                                    return_dict = True,\n",
    "                                    mode=\"text\"\n",
    "                                )  \n",
    "    embs = output.last_hidden_state\n",
    "    sampleLength = att.sum(dim=-1, keepdims=True) \n",
    "    maskedEmbs = embs * torch.unsqueeze(att, -1) \n",
    "    result =  maskedEmbs.sum(dim=1) / sampleLength\n",
    "    features_np = result.cpu().data.numpy()\n",
    "    features_df = pd.DataFrame(features_np) \n",
    "    features_df.to_csv('features_test.csv', mode='a', header=False)\n",
    "\n",
    "    #features_df.to_csv('features_dev.csv', mode='a', header=False)"
   ]
  },
  {
   "cell_type": "code",
   "execution_count": 35,
   "id": "64788791",
   "metadata": {},
   "outputs": [
    {
     "data": {
      "text/plain": [
       "torch.Size([64, 41, 768])"
      ]
     },
     "execution_count": 35,
     "metadata": {},
     "output_type": "execute_result"
    }
   ],
   "source": [
    "embs.shape"
   ]
  },
  {
   "cell_type": "code",
   "execution_count": 38,
   "id": "b5bdc2de",
   "metadata": {},
   "outputs": [
    {
     "data": {
      "text/plain": [
       "torch.Size([64, 41, 768])"
      ]
     },
     "execution_count": 38,
     "metadata": {},
     "output_type": "execute_result"
    }
   ],
   "source": [
    "maskedEmbs.shape"
   ]
  },
  {
   "cell_type": "code",
   "execution_count": 40,
   "id": "c6ec53d5",
   "metadata": {},
   "outputs": [
    {
     "data": {
      "text/plain": [
       "torch.Size([64, 768])"
      ]
     },
     "execution_count": 40,
     "metadata": {},
     "output_type": "execute_result"
    }
   ],
   "source": [
    "result.shape"
   ]
  },
  {
   "cell_type": "code",
   "execution_count": 43,
   "id": "830678f5",
   "metadata": {},
   "outputs": [
    {
     "data": {
      "text/plain": [
       "6982"
      ]
     },
     "execution_count": 43,
     "metadata": {},
     "output_type": "execute_result"
    }
   ],
   "source": [
    "len(datasets[1])"
   ]
  },
  {
   "cell_type": "code",
   "execution_count": null,
   "id": "38204595",
   "metadata": {},
   "outputs": [],
   "source": [
    "import pandas as"
   ]
  }
 ],
 "metadata": {
  "kernelspec": {
   "display_name": "Python 3 (ipykernel)",
   "language": "python",
   "name": "python3"
  },
  "language_info": {
   "codemirror_mode": {
    "name": "ipython",
    "version": 3
   },
   "file_extension": ".py",
   "mimetype": "text/x-python",
   "name": "python",
   "nbconvert_exporter": "python",
   "pygments_lexer": "ipython3",
   "version": "3.7.11"
  }
 },
 "nbformat": 4,
 "nbformat_minor": 5
}
