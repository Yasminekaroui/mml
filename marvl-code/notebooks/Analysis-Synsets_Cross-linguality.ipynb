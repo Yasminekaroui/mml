{
 "cells": [
  {
   "cell_type": "code",
   "execution_count": 1,
   "metadata": {},
   "outputs": [],
   "source": [
    "import json\n",
    "import glob\n",
    "import time\n",
    "import pickle\n",
    "import jsonlines\n",
    "import numpy as np\n",
    "import pandas as pd\n",
    "from tqdm import tqdm\n",
    "from collections import Counter, defaultdict\n",
    "\n",
    "import seaborn as sns\n",
    "import matplotlib.pyplot as plt\n",
    "from matplotlib import rcParams\n",
    "rcParams['font.family'] = 'Times New Roman'\n",
    "\n",
    "colors = ['#0072B2', '#56B4E9', '#E69F00', '#CC79A7', '#009E73', '#F0E442']"
   ]
  },
  {
   "cell_type": "markdown",
   "metadata": {},
   "source": [
    "## Load Synsets"
   ]
  },
  {
   "cell_type": "code",
   "execution_count": 2,
   "metadata": {},
   "outputs": [
    {
     "name": "stdout",
     "output_type": "stream",
     "text": [
      "(1000, 2)\n"
     ]
    },
    {
     "data": {
      "text/html": [
       "<div>\n",
       "<style scoped>\n",
       "    .dataframe tbody tr th:only-of-type {\n",
       "        vertical-align: middle;\n",
       "    }\n",
       "\n",
       "    .dataframe tbody tr th {\n",
       "        vertical-align: top;\n",
       "    }\n",
       "\n",
       "    .dataframe thead th {\n",
       "        text-align: right;\n",
       "    }\n",
       "</style>\n",
       "<table border=\"1\" class=\"dataframe\">\n",
       "  <thead>\n",
       "    <tr style=\"text-align: right;\">\n",
       "      <th></th>\n",
       "      <th>concept</th>\n",
       "      <th>en wiki</th>\n",
       "    </tr>\n",
       "  </thead>\n",
       "  <tbody>\n",
       "    <tr>\n",
       "      <th>0</th>\n",
       "      <td>English setter</td>\n",
       "      <td>https://en.wikipedia.org/wiki/English_Setter</td>\n",
       "    </tr>\n",
       "    <tr>\n",
       "      <th>1</th>\n",
       "      <td>grey whale, gray whale, devilfish, Eschrichtiu...</td>\n",
       "      <td>https://en.wikipedia.org/wiki/Gray_whale</td>\n",
       "    </tr>\n",
       "    <tr>\n",
       "      <th>2</th>\n",
       "      <td>Egyptian cat</td>\n",
       "      <td>https://en.wikipedia.org/wiki/Egyptian_Mau</td>\n",
       "    </tr>\n",
       "    <tr>\n",
       "      <th>3</th>\n",
       "      <td>Staffordshire bullterrier, Staffordshire bull ...</td>\n",
       "      <td>https://en.wikipedia.org/wiki/Staffordshire_Bu...</td>\n",
       "    </tr>\n",
       "    <tr>\n",
       "      <th>4</th>\n",
       "      <td>miniature poodle</td>\n",
       "      <td>https://en.wikipedia.org/wiki/Poodle</td>\n",
       "    </tr>\n",
       "  </tbody>\n",
       "</table>\n",
       "</div>"
      ],
      "text/plain": [
       "                                             concept  \\\n",
       "0                                     English setter   \n",
       "1  grey whale, gray whale, devilfish, Eschrichtiu...   \n",
       "2                                       Egyptian cat   \n",
       "3  Staffordshire bullterrier, Staffordshire bull ...   \n",
       "4                                   miniature poodle   \n",
       "\n",
       "                                             en wiki  \n",
       "0       https://en.wikipedia.org/wiki/English_Setter  \n",
       "1           https://en.wikipedia.org/wiki/Gray_whale  \n",
       "2         https://en.wikipedia.org/wiki/Egyptian_Mau  \n",
       "3  https://en.wikipedia.org/wiki/Staffordshire_Bu...  \n",
       "4               https://en.wikipedia.org/wiki/Poodle  "
      ]
     },
     "execution_count": 2,
     "metadata": {},
     "output_type": "execute_result"
    }
   ],
   "source": [
    "# ImageNet 1k concepts manually mapped onto Wikipedia pages\n",
    "synsets_df = pd.read_csv(\"synset_to_en-wiki.csv\", \"\\t\")\n",
    "print(synsets_df.shape)\n",
    "synsets_df.head()"
   ]
  },
  {
   "cell_type": "code",
   "execution_count": 3,
   "metadata": {},
   "outputs": [],
   "source": [
    "name2wiki = {e['concept']: e['en wiki'] for e in synsets_df.to_dict('records')}"
   ]
  },
  {
   "cell_type": "code",
   "execution_count": 4,
   "metadata": {},
   "outputs": [
    {
     "data": {
      "text/html": [
       "<div>\n",
       "<style scoped>\n",
       "    .dataframe tbody tr th:only-of-type {\n",
       "        vertical-align: middle;\n",
       "    }\n",
       "\n",
       "    .dataframe tbody tr th {\n",
       "        vertical-align: top;\n",
       "    }\n",
       "\n",
       "    .dataframe thead th {\n",
       "        text-align: right;\n",
       "    }\n",
       "</style>\n",
       "<table border=\"1\" class=\"dataframe\">\n",
       "  <thead>\n",
       "    <tr style=\"text-align: right;\">\n",
       "      <th></th>\n",
       "      <th>concept</th>\n",
       "      <th>en wiki</th>\n",
       "    </tr>\n",
       "  </thead>\n",
       "  <tbody>\n",
       "    <tr>\n",
       "      <th>0</th>\n",
       "      <td>cheetah</td>\n",
       "      <td>https://en.wikipedia.org/wiki/Cheetah</td>\n",
       "    </tr>\n",
       "    <tr>\n",
       "      <th>1</th>\n",
       "      <td>flute</td>\n",
       "      <td>https://en.wikipedia.org/wiki/Flute</td>\n",
       "    </tr>\n",
       "    <tr>\n",
       "      <th>2</th>\n",
       "      <td>goose</td>\n",
       "      <td>https://en.wikipedia.org/wiki/Goose</td>\n",
       "    </tr>\n",
       "    <tr>\n",
       "      <th>3</th>\n",
       "      <td>miniature schnauzer</td>\n",
       "      <td>https://en.wikipedia.org/wiki/Miniature_Schnauzer</td>\n",
       "    </tr>\n",
       "    <tr>\n",
       "      <th>4</th>\n",
       "      <td>knee pad</td>\n",
       "      <td>https://en.wikipedia.org/wiki/Knee_pad</td>\n",
       "    </tr>\n",
       "  </tbody>\n",
       "</table>\n",
       "</div>"
      ],
      "text/plain": [
       "               concept                                            en wiki\n",
       "0              cheetah              https://en.wikipedia.org/wiki/Cheetah\n",
       "1                flute                https://en.wikipedia.org/wiki/Flute\n",
       "2                goose                https://en.wikipedia.org/wiki/Goose\n",
       "3  miniature schnauzer  https://en.wikipedia.org/wiki/Miniature_Schnauzer\n",
       "4             knee pad             https://en.wikipedia.org/wiki/Knee_pad"
      ]
     },
     "execution_count": 4,
     "metadata": {},
     "output_type": "execute_result"
    }
   ],
   "source": [
    "# NLVR2 synsets\n",
    "nlvr_synsets = set()\n",
    "with jsonlines.open('../data/en/annotations/train.jsonl') as reader:\n",
    "    for obj in reader:\n",
    "        nlvr_synsets.add(obj['synset'])\n",
    "len(nlvr_synsets)\n",
    "\n",
    "nlvr_wikis = defaultdict(list)\n",
    "s_synsets = set(synsets_df['concept'])\n",
    "for syn in nlvr_synsets:\n",
    "    for s in s_synsets:\n",
    "        if syn in {e.strip() for e in s.split(',')}:\n",
    "            nlvr_wikis[syn].append(name2wiki[s])\n",
    "            \n",
    "nlvr_synsets_df = pd.DataFrame.from_dict(nlvr_wikis, orient='index')\n",
    "nlvr_synsets_df = nlvr_synsets_df.reset_index().rename(columns={'index': 'concept', 0: 'en wiki'})\n",
    "nlvr_synsets_df.head()"
   ]
  },
  {
   "cell_type": "code",
   "execution_count": 5,
   "metadata": {},
   "outputs": [
    {
     "name": "stdout",
     "output_type": "stream",
     "text": [
      "id 95\n",
      "sw 78\n",
      "ta 83\n",
      "tr 79\n",
      "zh 94\n"
     ]
    },
    {
     "data": {
      "text/html": [
       "<div>\n",
       "<style scoped>\n",
       "    .dataframe tbody tr th:only-of-type {\n",
       "        vertical-align: middle;\n",
       "    }\n",
       "\n",
       "    .dataframe tbody tr th {\n",
       "        vertical-align: top;\n",
       "    }\n",
       "\n",
       "    .dataframe thead th {\n",
       "        text-align: right;\n",
       "    }\n",
       "</style>\n",
       "<table border=\"1\" class=\"dataframe\">\n",
       "  <thead>\n",
       "    <tr style=\"text-align: right;\">\n",
       "      <th></th>\n",
       "      <th>concept</th>\n",
       "      <th>lang</th>\n",
       "    </tr>\n",
       "  </thead>\n",
       "  <tbody>\n",
       "    <tr>\n",
       "      <th>0</th>\n",
       "      <td>Rambutan</td>\n",
       "      <td>id</td>\n",
       "    </tr>\n",
       "    <tr>\n",
       "      <th>1</th>\n",
       "      <td>Renang_(olahraga)</td>\n",
       "      <td>id</td>\n",
       "    </tr>\n",
       "    <tr>\n",
       "      <th>2</th>\n",
       "      <td>Agama_Buddha</td>\n",
       "      <td>id</td>\n",
       "    </tr>\n",
       "    <tr>\n",
       "      <th>3</th>\n",
       "      <td>Patung</td>\n",
       "      <td>id</td>\n",
       "    </tr>\n",
       "    <tr>\n",
       "      <th>4</th>\n",
       "      <td>Bajak</td>\n",
       "      <td>id</td>\n",
       "    </tr>\n",
       "  </tbody>\n",
       "</table>\n",
       "</div>"
      ],
      "text/plain": [
       "             concept lang\n",
       "0           Rambutan   id\n",
       "1  Renang_(olahraga)   id\n",
       "2       Agama_Buddha   id\n",
       "3             Patung   id\n",
       "4              Bajak   id"
      ]
     },
     "execution_count": 5,
     "metadata": {},
     "output_type": "execute_result"
    }
   ],
   "source": [
    "# MaRVL synsets\n",
    "\n",
    "# id\n",
    "with jsonlines.open(\"../data/id/annotations/marvl-id.jsonl\") as reader:\n",
    "    id_concepts = set([item['concept'].split(\"-\")[-1].strip() for item in reader])\n",
    "print('id', len(id_concepts))\n",
    "    \n",
    "# sw\n",
    "with jsonlines.open(\"../data/sw/annotations/marvl-sw.jsonl\") as reader:\n",
    "    sw_concepts = set([item['concept'].split(\"-\")[-1].strip() for item in reader])\n",
    "print('sw', len(sw_concepts))\n",
    "\n",
    "# ta\n",
    "with jsonlines.open(\"../data/ta/annotations/marvl-ta.jsonl\") as reader:\n",
    "    ta_concepts = set([item['concept'].split(\"-\")[-1].strip() for item in reader])\n",
    "print('ta', len(ta_concepts))\n",
    "    \n",
    "# tr\n",
    "with jsonlines.open(\"../data/tr/annotations/marvl-tr.jsonl\") as reader:\n",
    "    tr_concepts = set([item['concept'].split(\"-\")[-1].strip() for item in reader])\n",
    "print('tr', len(tr_concepts))\n",
    "\n",
    "# zh\n",
    "with jsonlines.open(\"../data/zh/annotations/marvl-zh.jsonl\") as reader:\n",
    "    zh_concepts = set([item['concept'].split(\"-\")[-1].strip() for item in reader])\n",
    "print('zh', len(zh_concepts))\n",
    "\n",
    "# Synsets DataFrame\n",
    "marvl_synsets_df = pd.DataFrame()\n",
    "marvl_synsets_df['concept'] = list(id_concepts) + list(sw_concepts) + list(ta_concepts) + list(tr_concepts) + list(zh_concepts)\n",
    "marvl_synsets_df['lang'] = ['id']*len(id_concepts) + ['sw']*len(sw_concepts) + ['ta']*len(ta_concepts) + ['tr']*len(tr_concepts) + ['zh']*len(zh_concepts)\n",
    "marvl_synsets_df.head()\n"
   ]
  },
  {
   "cell_type": "markdown",
   "metadata": {},
   "source": [
    "## Get cross-lingual stats"
   ]
  },
  {
   "cell_type": "code",
   "execution_count": null,
   "metadata": {},
   "outputs": [],
   "source": [
    "import requests\n",
    "\n",
    "def get_json(url):\n",
    "    u = requests.get(url=url)\n",
    "    return u.json()"
   ]
  },
  {
   "cell_type": "code",
   "execution_count": null,
   "metadata": {},
   "outputs": [],
   "source": [
    "# ImageNet\n",
    "synset2langs = defaultdict(list)\n",
    "synset2nlangs = dict()\n",
    "for ix, row in tqdm(synsets_df.iterrows(), total=len(synsets_df)):\n",
    "    s, en_url = row\n",
    "    api_url = f\"https://en.wikipedia.org/w/api.php?action=query&titles={en_url.split('/')[-1]}&prop=langlinks&lllimit=500&format=json\"\n",
    "    data = get_json(api_url)\n",
    "    try:\n",
    "        result = list(data[\"query\"][\"pages\"].values())[0][\"langlinks\"]\n",
    "\n",
    "        count = len(result)\n",
    "        synset2nlangs[s] = count\n",
    "\n",
    "        for res in result:\n",
    "            synset2langs[s].append(res['lang'])\n",
    "    except:\n",
    "        print(s)\n",
    "        synset2nlangs[s] = 0\n",
    "        synset2langs[s] = []\n",
    "\n",
    "with open(\"synset2langs.pkl\", \"wb\") as f:\n",
    "    pickle.dump(synset2langs, f)\n",
    "    \n",
    "with open(\"synset2nlangs.pkl\", \"wb\") as f:\n",
    "    pickle.dump(synset2nlangs, f)"
   ]
  },
  {
   "cell_type": "code",
   "execution_count": null,
   "metadata": {},
   "outputs": [],
   "source": [
    "# NLVR2\n",
    "nlvr_synset2langs = defaultdict(list)\n",
    "nlvr_synset2nlangs = dict()\n",
    "for ix, row in tqdm(nlvr_synsets_df.iterrows(), total=len(nlvr_synsets_df)):\n",
    "    s, en_url = row\n",
    "    api_url = f\"https://en.wikipedia.org/w/api.php?action=query&titles={en_url.split('/')[-1]}&prop=langlinks&lllimit=500&format=json\"\n",
    "    data = get_json(api_url)\n",
    "    try:\n",
    "        result = list(data[\"query\"][\"pages\"].values())[0][\"langlinks\"]\n",
    "\n",
    "        count = len(result)\n",
    "        nlvr_synset2nlangs[s] = count\n",
    "\n",
    "        for res in result:\n",
    "            nlvr_synset2langs[s].append(res['lang'])\n",
    "    except:\n",
    "        print(s)\n",
    "        nlvr_synset2nlangs[s] = 0\n",
    "        nlvr_synset2langs[s] = []\n",
    "\n",
    "with open(\"nlvr_synset2langs.pkl\", \"wb\") as f:\n",
    "    pickle.dump(nlvr_synset2langs, f)\n",
    "    \n",
    "with open(\"nlvr_synset2nlangs.pkl\", \"wb\") as f:\n",
    "    pickle.dump(nlvr_synset2nlangs, f)"
   ]
  },
  {
   "cell_type": "code",
   "execution_count": null,
   "metadata": {},
   "outputs": [],
   "source": [
    "# MaRVL\n",
    "marvl_synset2langs = defaultdict(list)\n",
    "marvl_synset2nlangs = dict()\n",
    "for ix, row in tqdm(marvl_synsets_df.iterrows(), total=len(marvl_synsets_df)):\n",
    "    s, l = row\n",
    "    api_url = f\"https://{l}.wikipedia.org/w/api.php?action=query&titles={s}&prop=langlinks&lllimit=500&format=json\"\n",
    "    data = get_json(api_url)\n",
    "    try:\n",
    "        result = list(data[\"query\"][\"pages\"].values())[0][\"langlinks\"]\n",
    "\n",
    "        count = len(result)\n",
    "        marvl_synset2nlangs[s] = count + 1\n",
    "\n",
    "        marvl_synset2langs[s].append(l)\n",
    "        for res in result:\n",
    "            marvl_synset2langs[s].append(res['lang'])\n",
    "    except:\n",
    "        time.sleep(1)\n",
    "        try:\n",
    "            result = list(data[\"query\"][\"pages\"].values())[0][\"langlinks\"]\n",
    "\n",
    "            count = len(result)\n",
    "            marvl_synset2nlangs[s] = count + 1\n",
    "\n",
    "            marvl_synset2langs[s].append(l)\n",
    "            for res in result:\n",
    "                marvl_synset2langs[s].append(res['lang'])\n",
    "        except:\n",
    "            print(s)\n",
    "            marvl_synset2nlangs[s] = 0\n",
    "            marvl_synset2langs[s] = []\n",
    "\n",
    "with open(\"marvl_synset2langs.pkl\", \"wb\") as f:\n",
    "    pickle.dump(marvl_synset2langs, f)\n",
    "    \n",
    "with open(\"marvl_synset2nlangs.pkl\", \"wb\") as f:\n",
    "    pickle.dump(marvl_synset2nlangs, f)"
   ]
  },
  {
   "cell_type": "markdown",
   "metadata": {},
   "source": [
    "## Load cross-lingual stats"
   ]
  },
  {
   "cell_type": "code",
   "execution_count": 6,
   "metadata": {},
   "outputs": [
    {
     "name": "stdout",
     "output_type": "stream",
     "text": [
      "ImageNet: 999\n",
      "NLVR2: 124\n",
      "MaRVL: 445\n"
     ]
    }
   ],
   "source": [
    "# Load ImageNet cross-lingual stats\n",
    "inet_synset2langs = pickle.load(open(\"synset2langs.pkl\", \"rb\"))\n",
    "inet_synset2nlangs = pickle.load(open(\"synset2nlangs.pkl\", \"rb\"))\n",
    "print(\"ImageNet:\", len(inet_synset2nlangs))\n",
    "\n",
    "# Load NLVR2 cross-lingual stats\n",
    "nlvr_synset2langs = pickle.load(open(\"nlvr_synset2langs.pkl\", \"rb\"))\n",
    "nlvr_synset2nlangs = pickle.load(open(\"nlvr_synset2nlangs.pkl\", \"rb\"))\n",
    "print(\"NLVR2:\", len(nlvr_synset2nlangs))\n",
    "\n",
    "# Load MaRVL cross-lingual stats\n",
    "marvl_synset2langs = pickle.load(open(\"marvl_synset2langs.pkl\", \"rb\"))\n",
    "marvl_synset2nlangs = pickle.load(open(\"marvl_synset2nlangs.pkl\", \"rb\"))\n",
    "print(\"MaRVL:\", len(marvl_synset2nlangs))"
   ]
  },
  {
   "cell_type": "code",
   "execution_count": 7,
   "metadata": {},
   "outputs": [],
   "source": [
    "# Add English language\n",
    "for s in inet_synset2langs:\n",
    "    inet_synset2langs[s] += ['en']\n",
    "    inet_synset2nlangs[s] += 1\n",
    "    \n",
    "for s in nlvr_synset2langs:\n",
    "    nlvr_synset2langs[s] += ['en']\n",
    "    nlvr_synset2nlangs[s] += 1\n",
    "    \n",
    "for s in marvl_synset2langs:\n",
    "    marvl_synset2langs[s] += ['en']\n",
    "    marvl_synset2nlangs[s] += 1"
   ]
  },
  {
   "cell_type": "code",
   "execution_count": 8,
   "metadata": {},
   "outputs": [
    {
     "name": "stdout",
     "output_type": "stream",
     "text": [
      "ImageNet: 305\n",
      "NLVR2: 273\n",
      "MaRVL: 311\n"
     ]
    }
   ],
   "source": [
    "# Get list of languages spanned by each dataset\n",
    "inet_langs = set()\n",
    "for s, lst in inet_synset2langs.items():\n",
    "    for l in lst:\n",
    "        inet_langs.add(l)\n",
    "print(\"ImageNet:\", len(inet_langs))\n",
    "\n",
    "nlvr_langs = set()\n",
    "for s, lst in nlvr_synset2langs.items():\n",
    "    for l in lst:\n",
    "        nlvr_langs.add(l)\n",
    "print(\"NLVR2:\", len(nlvr_langs))\n",
    "\n",
    "marvl_langs = set()\n",
    "for s, lst in marvl_synset2langs.items():\n",
    "    for l in lst:\n",
    "        marvl_langs.add(l)\n",
    "print(\"MaRVL:\", len(marvl_langs))"
   ]
  },
  {
   "cell_type": "code",
   "execution_count": 9,
   "metadata": {},
   "outputs": [
    {
     "name": "stdout",
     "output_type": "stream",
     "text": [
      "ImageNet: 292\n",
      "NLVR2: 262\n",
      "MaRVL: 298\n"
     ]
    }
   ],
   "source": [
    "# Map each language to its ISO codes\n",
    "from iso639 import Lang  # pip install iso639-lang\n",
    "\n",
    "inet_lang2codes = dict()\n",
    "for l in sorted(inet_langs):\n",
    "    try:\n",
    "        inet_lang2codes[l] = Lang(l)\n",
    "    except:\n",
    "        pass\n",
    "print(\"ImageNet:\", len(inet_lang2codes))\n",
    "\n",
    "nlvr_lang2codes = dict()\n",
    "for l in sorted(nlvr_langs):\n",
    "    try:\n",
    "        nlvr_lang2codes[l] = Lang(l)\n",
    "    except:\n",
    "        pass\n",
    "print(\"NLVR2:\", len(nlvr_lang2codes))\n",
    "\n",
    "marvl_lang2codes = dict()\n",
    "for l in sorted(marvl_langs):\n",
    "    try:\n",
    "        marvl_lang2codes[l] = Lang(l)\n",
    "    except:\n",
    "        pass\n",
    "print(\"MaRVL:\", len(marvl_lang2codes))"
   ]
  },
  {
   "cell_type": "code",
   "execution_count": 10,
   "metadata": {},
   "outputs": [
    {
     "data": {
      "text/html": [
       "<div>\n",
       "<style scoped>\n",
       "    .dataframe tbody tr th:only-of-type {\n",
       "        vertical-align: middle;\n",
       "    }\n",
       "\n",
       "    .dataframe tbody tr th {\n",
       "        vertical-align: top;\n",
       "    }\n",
       "\n",
       "    .dataframe thead th {\n",
       "        text-align: right;\n",
       "    }\n",
       "</style>\n",
       "<table border=\"1\" class=\"dataframe\">\n",
       "  <thead>\n",
       "    <tr style=\"text-align: right;\">\n",
       "      <th></th>\n",
       "      <th>ID</th>\n",
       "      <th>Name</th>\n",
       "      <th>Macroarea</th>\n",
       "      <th>Latitude</th>\n",
       "      <th>Longitude</th>\n",
       "      <th>Glottocode</th>\n",
       "      <th>ISO639P3code</th>\n",
       "      <th>Family</th>\n",
       "      <th>Subfamily</th>\n",
       "      <th>Genus</th>\n",
       "      <th>GenusIcon</th>\n",
       "      <th>ISO_codes</th>\n",
       "      <th>Samples_100</th>\n",
       "      <th>Samples_200</th>\n",
       "      <th>Country_ID</th>\n",
       "      <th>Source</th>\n",
       "    </tr>\n",
       "  </thead>\n",
       "  <tbody>\n",
       "    <tr>\n",
       "      <th>0</th>\n",
       "      <td>aab</td>\n",
       "      <td>Arapesh (Abu)</td>\n",
       "      <td>NaN</td>\n",
       "      <td>-3.450000</td>\n",
       "      <td>142.950000</td>\n",
       "      <td>NaN</td>\n",
       "      <td>NaN</td>\n",
       "      <td>Torricelli</td>\n",
       "      <td>NaN</td>\n",
       "      <td>Kombio-Arapesh</td>\n",
       "      <td>c0000dd</td>\n",
       "      <td>NaN</td>\n",
       "      <td>False</td>\n",
       "      <td>False</td>\n",
       "      <td>PG</td>\n",
       "      <td>Nekitel-1985</td>\n",
       "    </tr>\n",
       "    <tr>\n",
       "      <th>1</th>\n",
       "      <td>aar</td>\n",
       "      <td>Aari</td>\n",
       "      <td>Africa</td>\n",
       "      <td>6.000000</td>\n",
       "      <td>36.583333</td>\n",
       "      <td>aari1239</td>\n",
       "      <td>aiw</td>\n",
       "      <td>Afro-Asiatic</td>\n",
       "      <td>Omotic</td>\n",
       "      <td>South Omotic</td>\n",
       "      <td>ccccccc</td>\n",
       "      <td>aiw</td>\n",
       "      <td>False</td>\n",
       "      <td>False</td>\n",
       "      <td>ET</td>\n",
       "      <td>Hayward-1990a</td>\n",
       "    </tr>\n",
       "    <tr>\n",
       "      <th>2</th>\n",
       "      <td>aba</td>\n",
       "      <td>Abau</td>\n",
       "      <td>Papunesia</td>\n",
       "      <td>-4.000000</td>\n",
       "      <td>141.250000</td>\n",
       "      <td>abau1245</td>\n",
       "      <td>aau</td>\n",
       "      <td>Sepik</td>\n",
       "      <td>NaN</td>\n",
       "      <td>Upper Sepik</td>\n",
       "      <td>ddd0000</td>\n",
       "      <td>aau</td>\n",
       "      <td>False</td>\n",
       "      <td>False</td>\n",
       "      <td>PG</td>\n",
       "      <td>Bailey-1975</td>\n",
       "    </tr>\n",
       "    <tr>\n",
       "      <th>3</th>\n",
       "      <td>abb</td>\n",
       "      <td>Arabic (Chadian)</td>\n",
       "      <td>Africa</td>\n",
       "      <td>13.833333</td>\n",
       "      <td>20.833333</td>\n",
       "      <td>chad1249</td>\n",
       "      <td>shu</td>\n",
       "      <td>Afro-Asiatic</td>\n",
       "      <td>NaN</td>\n",
       "      <td>Semitic</td>\n",
       "      <td>cdd0000</td>\n",
       "      <td>shu</td>\n",
       "      <td>False</td>\n",
       "      <td>False</td>\n",
       "      <td>TD</td>\n",
       "      <td>Abu-Absi-1995</td>\n",
       "    </tr>\n",
       "    <tr>\n",
       "      <th>4</th>\n",
       "      <td>abd</td>\n",
       "      <td>Abidji</td>\n",
       "      <td>Africa</td>\n",
       "      <td>5.666667</td>\n",
       "      <td>-4.583333</td>\n",
       "      <td>abid1235</td>\n",
       "      <td>abi</td>\n",
       "      <td>Niger-Congo</td>\n",
       "      <td>NaN</td>\n",
       "      <td>Kwa</td>\n",
       "      <td>d009900</td>\n",
       "      <td>abi</td>\n",
       "      <td>False</td>\n",
       "      <td>False</td>\n",
       "      <td>CI</td>\n",
       "      <td>NaN</td>\n",
       "    </tr>\n",
       "  </tbody>\n",
       "</table>\n",
       "</div>"
      ],
      "text/plain": [
       "    ID              Name  Macroarea   Latitude   Longitude Glottocode  \\\n",
       "0  aab     Arapesh (Abu)        NaN  -3.450000  142.950000        NaN   \n",
       "1  aar              Aari     Africa   6.000000   36.583333   aari1239   \n",
       "2  aba              Abau  Papunesia  -4.000000  141.250000   abau1245   \n",
       "3  abb  Arabic (Chadian)     Africa  13.833333   20.833333   chad1249   \n",
       "4  abd            Abidji     Africa   5.666667   -4.583333   abid1235   \n",
       "\n",
       "  ISO639P3code        Family Subfamily           Genus GenusIcon ISO_codes  \\\n",
       "0          NaN    Torricelli       NaN  Kombio-Arapesh   c0000dd       NaN   \n",
       "1          aiw  Afro-Asiatic    Omotic    South Omotic   ccccccc       aiw   \n",
       "2          aau         Sepik       NaN     Upper Sepik   ddd0000       aau   \n",
       "3          shu  Afro-Asiatic       NaN         Semitic   cdd0000       shu   \n",
       "4          abi   Niger-Congo       NaN             Kwa   d009900       abi   \n",
       "\n",
       "   Samples_100  Samples_200 Country_ID         Source  \n",
       "0        False        False         PG   Nekitel-1985  \n",
       "1        False        False         ET  Hayward-1990a  \n",
       "2        False        False         PG    Bailey-1975  \n",
       "3        False        False         TD  Abu-Absi-1995  \n",
       "4        False        False         CI            NaN  "
      ]
     },
     "execution_count": 10,
     "metadata": {},
     "output_type": "execute_result"
    }
   ],
   "source": [
    "# Load WALS features\n",
    "langs_df = pd.read_csv(\"languages.csv\")\n",
    "langs_df.head()"
   ]
  },
  {
   "cell_type": "markdown",
   "metadata": {},
   "source": [
    "## Analysis per Language"
   ]
  },
  {
   "cell_type": "code",
   "execution_count": 11,
   "metadata": {},
   "outputs": [
    {
     "data": {
      "image/png": "[encoded data removed]",
      "text/plain": [
       "<Figure size 576x432 with 1 Axes>"
      ]
     },
     "metadata": {
      "needs_background": "light"
     },
     "output_type": "display_data"
    }
   ],
   "source": [
    "f, ax = plt.subplots(figsize=(8,6))\n",
    "\n",
    "x, y = np.unique(sorted([v for v in inet_synset2nlangs.values() if v > 0]), return_counts=True)\n",
    "sns.kdeplot(x=[v for v in inet_synset2nlangs.values() if v > 0], color=colors[0], lw=4, ls='-', label='ImageNet', ax=ax)\n",
    "\n",
    "x, y = np.unique(sorted([v for v in nlvr_synset2nlangs.values() if v > 0]), return_counts=True)\n",
    "sns.kdeplot(x=[v for v in nlvr_synset2nlangs.values() if v > 0], color=colors[1], lw=4, ls='--', label='NLVR2', ax=ax)\n",
    "\n",
    "x, y = np.unique(sorted([v for v in marvl_synset2nlangs.values() if v > 0]), return_counts=True)\n",
    "sns.kdeplot(x=[v for v in marvl_synset2nlangs.values() if v > 0],  color=colors[2], lw=4, ls='-.', label='MaRVL', ax=ax)\n",
    "\n",
    "ax.set_xlabel(\"# Languages per synset\", fontsize=32)\n",
    "ax.set_ylabel(\"Density\", fontsize=32)\n",
    "ax.set_xlim(0)\n",
    "ax.tick_params(axis='both', which='major', labelsize=24)\n",
    "ax.grid(alpha=0.2, axis='y')\n",
    "ax.legend(fontsize=24)\n",
    "\n",
    "f.savefig(\"synsets_languages.pdf\", bbox_inches=\"tight\")"
   ]
  },
  {
   "cell_type": "markdown",
   "metadata": {},
   "source": [
    "## Analisys per Macroarea"
   ]
  },
  {
   "cell_type": "code",
   "execution_count": 12,
   "metadata": {},
   "outputs": [
    {
     "data": {
      "text/plain": [
       "'Eurasia'"
      ]
     },
     "execution_count": 12,
     "metadata": {},
     "output_type": "execute_result"
    }
   ],
   "source": [
    "# Map language names onto macroarea\n",
    "lang2area = {r['ISO639P3code']: r['Macroarea'] for _, r in langs_df.iterrows()}\n",
    "lang2area['ita']"
   ]
  },
  {
   "cell_type": "code",
   "execution_count": 13,
   "metadata": {},
   "outputs": [
    {
     "data": {
      "text/plain": [
       "'Eurasia'"
      ]
     },
     "execution_count": 13,
     "metadata": {},
     "output_type": "execute_result"
    }
   ],
   "source": [
    "# Map language ids onto macroarea\n",
    "id2area = {r['ID']: r['Macroarea'] for _, r in langs_df.iterrows()}\n",
    "id2area['ita']"
   ]
  },
  {
   "cell_type": "code",
   "execution_count": 14,
   "metadata": {},
   "outputs": [
    {
     "name": "stdout",
     "output_type": "stream",
     "text": [
      "ImageNet: 59\n",
      "NLVR2: 51\n",
      "MaRVL: 67\n"
     ]
    }
   ],
   "source": [
    "# number of ImageNet synsets per macroarea\n",
    "inet_area2synsets = defaultdict(list)\n",
    "missed_langs = set()\n",
    "for s, lst in inet_synset2langs.items():\n",
    "    synset_areas = set()  # counts 1 even if in many languages\n",
    "    for l in lst:\n",
    "        try:\n",
    "            a = lang2area[inet_lang2codes[l].pt3]\n",
    "            synset_areas.add(a)\n",
    "        except:\n",
    "            try:\n",
    "                a = id2area[inet_lang2codes[l].pt3]\n",
    "                synset_areas.add(a)\n",
    "            except:\n",
    "                missed_langs.add(l)\n",
    "    for a in synset_areas:\n",
    "        inet_area2synsets[a].append(s)\n",
    "print(\"ImageNet:\", len(missed_langs))\n",
    "\n",
    "# number of NLVR2 synsets per macroarea\n",
    "nlvr_area2synsets = defaultdict(list)\n",
    "missed_langs = set()\n",
    "for s, lst in nlvr_synset2langs.items():\n",
    "    synset_areas = set()  # counts 1 even if in many languages\n",
    "    for l in lst:\n",
    "        try:\n",
    "            a = lang2area[nlvr_lang2codes[l].pt3]\n",
    "            synset_areas.add(a)\n",
    "        except:\n",
    "            try:\n",
    "                a = id2area[nlvr_lang2codes[l].pt3]\n",
    "                synset_areas.add(a)\n",
    "            except:\n",
    "                missed_langs.add(l)\n",
    "    for a in synset_areas:\n",
    "        nlvr_area2synsets[a].append(s)\n",
    "print(\"NLVR2:\", len(missed_langs))\n",
    "\n",
    "# number of MaRVL synsets per macroarea\n",
    "marvl_area2synsets = defaultdict(list)\n",
    "missed_langs = set()\n",
    "for s, lst in marvl_synset2langs.items():\n",
    "    synset_areas = set()  # counts 1 even if in many languages\n",
    "    for l in lst:\n",
    "        try:\n",
    "            a = lang2area[marvl_lang2codes[l].pt3]\n",
    "            synset_areas.add(a)\n",
    "        except:\n",
    "            try:\n",
    "                a = id2area[nlvr_lang2codes[l].pt3]\n",
    "                synset_areas.add(a)\n",
    "            except:\n",
    "                missed_langs.add(l)\n",
    "    for a in synset_areas:\n",
    "        marvl_area2synsets[a].append(s)\n",
    "print(\"MaRVL:\", len(missed_langs))"
   ]
  },
  {
   "cell_type": "code",
   "execution_count": 15,
   "metadata": {},
   "outputs": [
    {
     "name": "stderr",
     "output_type": "stream",
     "text": [
      "<ipython-input-15-c946bed78da9>:12: UserWarning: FixedFormatter should only be used together with FixedLocator\n",
      "  ax.set_yticklabels([''] + names, fontsize=28, rotation=0);\n"
     ]
    },
    {
     "data": {
      "image/png": "[encoded data removed]",
      "text/plain": [
       "<Figure size 576x432 with 1 Axes>"
      ]
     },
     "metadata": {
      "needs_background": "light"
     },
     "output_type": "display_data"
    }
   ],
   "source": [
    "f, ax = plt.subplots(figsize=(8,6))\n",
    "w = 0.3\n",
    "\n",
    "names = ['Eurasia', 'Papunesia', 'South America', 'Africa', 'North America', 'Australia']\n",
    "xs = np.array(range(len(names)))\n",
    "ax.barh(xs - w, [100*len(inet_area2synsets[k])/len(inet_synset2langs) for k in names], height=w, color=colors[0], ec='k', label='ImageNet')\n",
    "ax.barh(xs, [100*len(nlvr_area2synsets[k])/len(nlvr_synset2langs) for k in names], height=w, color=colors[1], ec='k', hatch='.', label='NLVR2')\n",
    "ax.barh(xs + w, [100*len(marvl_area2synsets[k])/len(marvl_synset2langs) for k in names], height=w, color=colors[2], ec='k', hatch='/', label='MaRVL')\n",
    "\n",
    "ax.set_xlabel(\"Synsets per macro-area [%]\", fontsize=32)\n",
    "ax.tick_params(axis='x', which='major', labelsize=24)\n",
    "ax.set_yticklabels([''] + names, fontsize=28, rotation=0);\n",
    "ax.grid(alpha=0.2, axis='x')\n",
    "ax.legend(fontsize=18)\n",
    "\n",
    "f.savefig(\"synsets_macroareas.pdf\", bbox_inches=\"tight\")"
   ]
  },
  {
   "cell_type": "markdown",
   "metadata": {},
   "source": [
    "## Analysis per Family"
   ]
  },
  {
   "cell_type": "code",
   "execution_count": 16,
   "metadata": {},
   "outputs": [
    {
     "data": {
      "text/plain": [
       "'Indo-European'"
      ]
     },
     "execution_count": 16,
     "metadata": {},
     "output_type": "execute_result"
    }
   ],
   "source": [
    "# Map language names onto families\n",
    "lang2fam = {r['ISO639P3code']: r['Family'] for _, r in langs_df.iterrows()}\n",
    "lang2fam['ita']"
   ]
  },
  {
   "cell_type": "code",
   "execution_count": 17,
   "metadata": {},
   "outputs": [
    {
     "data": {
      "text/plain": [
       "'Indo-European'"
      ]
     },
     "execution_count": 17,
     "metadata": {},
     "output_type": "execute_result"
    }
   ],
   "source": [
    "# Map language ids onto families\n",
    "id2fam = {r['ID']: r['Family'] for _, r in langs_df.iterrows()}\n",
    "id2fam['ita']"
   ]
  },
  {
   "cell_type": "code",
   "execution_count": 18,
   "metadata": {},
   "outputs": [
    {
     "name": "stdout",
     "output_type": "stream",
     "text": [
      "ImageNet: 35\n",
      "NLVR2: 32\n",
      "MaRVL: 35\n"
     ]
    }
   ],
   "source": [
    "# number of ImageNet synsets per family\n",
    "inet_fam2synsets = defaultdict(list)\n",
    "for s, lst in inet_synset2langs.items():\n",
    "    synset_fams = set()  # counts 1 even if in many languages\n",
    "    for l in lst:\n",
    "        try:\n",
    "            a = lang2fam[inet_lang2codes[l].pt3]\n",
    "            if type(a) == str:\n",
    "                synset_fams.add(a)\n",
    "        except:\n",
    "            try:\n",
    "                a = id2fam[inet_lang2codes[l].pt3]\n",
    "                if type(a) == str:\n",
    "                    synset_fams.add(a)\n",
    "            except:\n",
    "                pass\n",
    "    for a in synset_fams:\n",
    "        inet_fam2synsets[a].append(s)\n",
    "print(\"ImageNet:\", len(inet_fam2synsets))\n",
    "        \n",
    "# number of NLVR2 synsets per family\n",
    "nlvr_fam2synsets = defaultdict(list)\n",
    "for s, lst in nlvr_synset2langs.items():\n",
    "    synset_fams = set()  # counts 1 even if in many languages\n",
    "    for l in lst:\n",
    "        try:\n",
    "            a = lang2fam[nlvr_lang2codes[l].pt3]\n",
    "            if type(a) == str:\n",
    "                synset_fams.add(a)\n",
    "        except:\n",
    "            try:\n",
    "                a = id2fam[nlvr_lang2codes[l].pt3]\n",
    "                if type(a) == str:\n",
    "                    synset_fams.add(a)\n",
    "            except:\n",
    "                pass\n",
    "    for a in synset_fams:\n",
    "        nlvr_fam2synsets[a].append(s)\n",
    "print(\"NLVR2:\", len(nlvr_fam2synsets))\n",
    "        \n",
    "# number of MaRVL synsets per family\n",
    "marvl_fam2synsets = defaultdict(list)\n",
    "for s, lst in marvl_synset2langs.items():\n",
    "    synset_fams = set()  # counts 1 even if in many languages\n",
    "    for l in lst:\n",
    "        try:\n",
    "            a = lang2fam[marvl_lang2codes[l].pt3]\n",
    "            if type(a) == str:\n",
    "                synset_fams.add(a)\n",
    "        except:\n",
    "            try:\n",
    "                a = id2fam[marvl_lang2codes[l].pt3]\n",
    "                if type(a) == str:\n",
    "                    synset_fams.add(a)\n",
    "            except:\n",
    "                pass\n",
    "    for a in synset_fams:\n",
    "        marvl_fam2synsets[a].append(s)\n",
    "print(\"MaRVL:\", len(marvl_fam2synsets))"
   ]
  },
  {
   "cell_type": "code",
   "execution_count": 19,
   "metadata": {},
   "outputs": [
    {
     "name": "stderr",
     "output_type": "stream",
     "text": [
      "<ipython-input-19-2496d7eebf66>:13: UserWarning: FixedFormatter should only be used together with FixedLocator\n",
      "  ax.set_xticklabels([0, 20, 40, 60, 80, 100])\n"
     ]
    },
    {
     "data": {
      "image/png": "[encoded data removed]",
      "text/plain": [
       "<Figure size 576x432 with 1 Axes>"
      ]
     },
     "metadata": {
      "needs_background": "light"
     },
     "output_type": "display_data"
    }
   ],
   "source": [
    "f, ax = plt.subplots(figsize=(8,6))\n",
    "\n",
    "names = list(inet_fam2synsets.keys())\n",
    "\n",
    "sns.kdeplot(x=[len(inet_fam2synsets[k])/len(inet_synset2langs) for k in names], color=colors[0], lw=4, ls='-', label='ImageNet', ax=ax)\n",
    "sns.kdeplot(x=[len(nlvr_fam2synsets[k])/len(nlvr_synset2langs) for k in names], color=colors[1], lw=4, ls='--', label='NLVR2', ax=ax)\n",
    "sns.kdeplot(x=[len(marvl_fam2synsets[k])/len(marvl_synset2langs) for k in names], color=colors[2], lw=4, ls='-.', label='MaRVL', ax=ax)\n",
    "\n",
    "ax.set_xlabel(\"Synsets per language family [%]\", fontsize=32)\n",
    "ax.set_ylabel(\"Density\", fontsize=32)\n",
    "ax.set_xlim(0, 1)\n",
    "ax.tick_params(axis='both', which='major', labelsize=24)\n",
    "ax.set_xticklabels([0, 20, 40, 60, 80, 100])\n",
    "ax.grid(alpha=0.2, axis='y')\n",
    "ax.legend(fontsize=24)\n",
    "\n",
    "f.savefig(\"synsets_families.pdf\", bbox_inches=\"tight\")"
   ]
  },
  {
   "cell_type": "code",
   "execution_count": null,
   "metadata": {},
   "outputs": [],
   "source": [
    "x"
   ]
  }
 ],
 "metadata": {
  "kernelspec": {
   "display_name": "Python 3",
   "language": "python",
   "name": "python3"
  },
  "language_info": {
   "codemirror_mode": {
    "name": "ipython",
    "version": 3
   },
   "file_extension": ".py",
   "mimetype": "text/x-python",
   "name": "python",
   "nbconvert_exporter": "python",
   "pygments_lexer": "ipython3",
   "version": "3.8.8"
  },
  "latex_envs": {
   "LaTeX_envs_menu_present": true,
   "autoclose": false,
   "autocomplete": true,
   "bibliofile": "biblio.bib",
   "cite_by": "apalike",
   "current_citInitial": 1,
   "eqLabelWithNumbers": true,
   "eqNumInitial": 1,
   "hotkeys": {
    "equation": "Ctrl-E",
    "itemize": "Ctrl-I"
   },
   "labels_anchors": false,
   "latex_user_defs": false,
   "report_style_numbering": false,
   "user_envs_cfg": false
  },
  "toc": {
   "base_numbering": 1,
   "nav_menu": {},
   "number_sections": true,
   "sideBar": true,
   "skip_h1_title": false,
   "title_cell": "Table of Contents",
   "title_sidebar": "Contents",
   "toc_cell": false,
   "toc_position": {
    "height": "calc(100% - 180px)",
    "left": "10px",
    "top": "150px",
    "width": "241.4705810546875px"
   },
   "toc_section_display": true,
   "toc_window_display": true
  }
 },
 "nbformat": 4,
 "nbformat_minor": 4
}
